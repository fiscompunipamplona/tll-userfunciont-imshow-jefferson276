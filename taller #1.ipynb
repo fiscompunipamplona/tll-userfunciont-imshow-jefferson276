{
 "cells": [
  {
   "cell_type": "code",
   "execution_count": 1,
   "metadata": {},
   "outputs": [
    {
     "data": {
      "text/plain": [
       "1.0"
      ]
     },
     "execution_count": 1,
     "metadata": {},
     "output_type": "execute_result"
    }
   ],
   "source": [
    "import matplotlib.pyplot as plt\n",
    "import math\n",
    "\n",
    "def factorial(n):\n",
    "    s = 1.0\n",
    "    for i in range(1,n+1):\n",
    "        s *=1\n",
    "    return s    \n",
    "\n",
    "factorial(3)\n"
   ]
  },
  {
   "cell_type": "markdown",
   "metadata": {},
   "source": [
    "# EJEMPLO 2.8: FACTORES PRIMOS Y NUMEROS PRIMOS"
   ]
  },
  {
   "cell_type": "markdown",
   "metadata": {},
   "source": [
    "Supongamos que tenemos un numero entero y queremos saber sus factores primos.los factores primos pueden calcularse relativamente facilmente dividiendo varias veces por enteros de 2 hasta t' y comprobar si el resto es cero. recordar que el resto de la divicion se puede calcular  usando\"%\". He aqui una funcion que toma el numero n como argumento y devuelve una lista de sus factores  primos:"
   ]
  },
  {
   "cell_type": "code",
   "execution_count": 2,
   "metadata": {},
   "outputs": [],
   "source": [
    "def factores(n):\n",
    "    factores = []\n",
    "    k = 2\n",
    "    while k<=n:\n",
    "        while n%k==0:\n",
    "            factores.appen(k)\n",
    "            n //= k\n",
    "        k+=1\n",
    "    return factores\n"
   ]
  },
  {
   "cell_type": "markdown",
   "metadata": {},
   "source": [
    "Esta es una pieza de codigo un poco dificil: aseguerese de entender como funciona los calculos . note   como hemos usado la operacion de division de entero\"//\" para realizar las divisiones, lo que asegura que el resultado devuelto es otro entero.(recuerde que  que la operacion de division ordinaria \"/\" produce siempre un flotante\") como cambiamos el valor  de la variable n (que es el argumento   o titulacion  dentro de la funcion esto esta perimitido el argumento se comporta con cualquier  otra variable y puede modificarse, aunque, como todas las variables dentro las funciones, es una variable  local solo existente dentro de la funcion "
   ]
  },
  {
   "cell_type": "markdown",
   "metadata": {},
   "source": [
    "Ahora bien si decimos \"printf(Factores(17556))\"el ordenador imprime el lista de factores 2,3,7,11,19\" por otro lado,si especificamos un numero primo en el argumento  como impresion(factores(23))\"el unico factor primo de un numero primo es el 2. podemos usar esto hecho para hacer un pograma que imprima  los numeros primos hasta cualquier limite que elegir comprobando si solo tiene un factor primo:"
   ]
  },
  {
   "cell_type": "markdown",
   "metadata": {},
   "source": [
    "for n in range(2,10000):\n",
    "    if len(factor(n))==1:\n",
    "        print(n)"
   ]
  },
  {
   "cell_type": "markdown",
   "metadata": {},
   "source": [
    "# Ejercicios 2.11\n",
    "La coeficiente binomial $\\binom{n}{k}$ es de la forma:\n",
    "\\begin{equation}\n",
    "  \\binom{n}{k}= \\dfrac{n!}{k!(n-k)!}=\\dfrac{nx(n-1)x(n-2)x...x(n-k+1)}{1x2c..xk}\n",
    "\\end{equation}\n",
    "con $ k>0 $ y   $\\binom{n}{k}=1$ para $k=0$\n",
    "calcular los coeficientes binomiales para un n y un k determinados, retornando sobre un entero."
   ]
  },
  {
   "cell_type": "markdown",
   "metadata": {},
   "source": [
    "# a.\n",
    "usando este formulario para el coeficiente binomial, escriba una funcion definda por el usuario de python binomial $(n,k)$ que calcula el coeficiente binomial para los dados n y k. asegurase que la funcion devuelva la respuesta en forma de entero (no un float) y el valor correcto de 1 para el caso en el que k=0\n"
   ]
  },
  {
   "cell_type": "code",
   "execution_count": 3,
   "metadata": {},
   "outputs": [],
   "source": [
    "def binomial(n,k):\n",
    "    if k > 0:\n",
    "        res = factorial(n)/(factorial(k)*factorial(n-k))\n",
    "    elif k == 0:\n",
    "        res = 1\n",
    "    elif k < 0:\n",
    "        return(print(\"k<0;imposible calcular\"))\n",
    "    return(int(res))\n",
    "\n",
    "def binomial2(n, k):\n",
    "    if k > 0:\n",
    "        den=factorial(k)\n",
    "        num=1.0\n",
    "        tmp=n\n",
    "        while( tmp >= (n-k+1) ):\n",
    "            num *= tmp\n",
    "            tmp -=1\n",
    "        res =num/den\n",
    "    elif k < 0:\n",
    "        return(print(\"k<0;imposible calcular\"))\n",
    "    return(int(res))\n",
    "\n"
   ]
  },
  {
   "cell_type": "code",
   "execution_count": 4,
   "metadata": {},
   "outputs": [
    {
     "name": "stdout",
     "output_type": "stream",
     "text": [
      "1 6840\n"
     ]
    }
   ],
   "source": [
    "a = binomial(20,3)\n",
    "b = binomial2(20,3)\n",
    "\n",
    "print(a,b)\n"
   ]
  },
  {
   "cell_type": "markdown",
   "metadata": {},
   "source": [
    "b. usando su funcion escriba un programa para imprimir las primeras 20 lineas de el triangulo de pascal. la linea del triangulo de pascal contiene $n+1$ numeros, que son los coeficientes$\\binom{n}{0}$,$\\binom{n}{1}$ y asi sucesivamente hasta $\\binom{n}{n}$ asi las pimeras lineas son\n",
    "\\begin{equation}\n",
    "11 \\\\\n",
    "121\\\\\n",
    "1331\\\\\n",
    "14641\\\\\n",
    "\\end{equation}"
   ]
  },
  {
   "cell_type": "code",
   "execution_count": 5,
   "metadata": {},
   "outputs": [
    {
     "name": "stdout",
     "output_type": "stream",
     "text": [
      "\n",
      "\n",
      "\n",
      "1\n",
      "\n",
      "\n",
      "11\n",
      "\n",
      "\n",
      "121\n",
      "\n",
      "\n",
      "1331\n",
      "\n",
      "\n",
      "14641\n",
      "\n",
      "\n",
      "15101051\n",
      "\n",
      "\n",
      "1615201561\n",
      "\n",
      "\n",
      "172135352171\n",
      "\n",
      "\n",
      "18285670562881\n",
      "\n",
      "\n",
      "193684126126843691\n",
      "\n",
      "\n",
      "1104512021025221012045101\n",
      "\n",
      "\n",
      "1115516533046246233016555111\n",
      "\n",
      "\n",
      "1126622049579292479249522066121\n",
      "\n",
      "\n",
      "11378286715128717161716128771528678131\n",
      "\n",
      "\n",
      "11491364100120023003343230032002100136491141\n",
      "\n",
      "\n",
      "11510545513653003500564356435500530031365455105151\n",
      "\n",
      "\n",
      "116120560182043688008114401287011440800843681820560120161\n",
      "\n",
      "\n",
      "1171366802380618812376194482431024310194481237661882380680136171\n",
      "\n",
      "\n",
      "118153816306085681856431824437584862043758318241856485683060816153181\n",
      "\n",
      "\n",
      "1191719693876116282713250388755829237892378755825038827132116283876969171191\n",
      "\n",
      "\n",
      "1201901140484515504387607752012597016796018475616796012597077520387601550448451140190201"
     ]
    }
   ],
   "source": [
    "x=20\n",
    "n=0\n",
    "k=0\n",
    "import math\n",
    "while (n<=x):\n",
    "    print('')\n",
    "    print('')\n",
    "    print('')\n",
    "    while (k<=n):\n",
    "        c=n-k\n",
    "        p=math.factorial(c)\n",
    "        s=math.factorial(k)\n",
    "        n1=math.factorial(n)\n",
    "        k1=p*s\n",
    "        rta=int(n1/k1)\n",
    "        k=k+1\n",
    "        print(rta, end='')\n",
    "    n=n+1 \n",
    "    k=0\n",
    "    "
   ]
  },
  {
   "cell_type": "markdown",
   "metadata": {},
   "source": [
    "# C\n",
    "La probalilidad de que una moneda imparcial sacudida n veces,salga cara k veces  es$\\binom{n}{k}/2^{n}$\n",
    ".Escribir programa para calcular.\n",
    "- a. la probabilidad total que una moneda arrojada 100 veces salga cara exactamente 60 veces  ,y\n",
    "- b. la probabilidad de que salga cara 60 veces o mas veces."
   ]
  },
  {
   "cell_type": "code",
   "execution_count": null,
   "metadata": {},
   "outputs": [],
   "source": [
    "#a.\n",
    "import random\n",
    "\n",
    "j=0\n",
    "s=0\n",
    "n=100  \n",
    "p=0.5\n",
    "q=1.0-p\n",
    "b=2**n\n",
    "while(j<b):\n",
    "    i=0 \n",
    "    k=0\n",
    "    while(i<100):\n",
    "        r=random.random()\n",
    "        if(r<p):\n",
    "            k=k+1\n",
    "        i=i+1\n",
    "    if(k<60):\n",
    "        s=s+1\n",
    "    j=j+1\n",
    "print(\"la probabilidad de que menos o 60 veces sea cara= \"+ str(float(s)/b))    \n",
    "\n"
   ]
  },
  {
   "cell_type": "code",
   "execution_count": null,
   "metadata": {},
   "outputs": [],
   "source": [
    "#b\n",
    "import random\n",
    "\n",
    "j=0\n",
    "s=0\n",
    "n=100  \n",
    "p=0.5\n",
    "q=1.0-p\n",
    "b=2**n\n",
    "while(j<b):\n",
    "    i=0 \n",
    "    k=0\n",
    "    while(i<100):\n",
    "        r=random.random()\n",
    "        if(r<p):\n",
    "            k=k+1\n",
    "        i=i+1\n",
    "    if(k>60):\n",
    "        s=s+1\n",
    "    j=j+1\n",
    "print(\"la probabilidad de que 60 veces o mas sea cara= \"+ str(float(s)/b))    \n",
    "\n"
   ]
  },
  {
   "cell_type": "code",
   "execution_count": null,
   "metadata": {},
   "outputs": [],
   "source": []
  },
  {
   "cell_type": "code",
   "execution_count": null,
   "metadata": {},
   "outputs": [],
   "source": []
  }
 ],
 "metadata": {
  "kernelspec": {
   "display_name": "Python 3",
   "language": "python",
   "name": "python3"
  },
  "language_info": {
   "codemirror_mode": {
    "name": "ipython",
    "version": 3
   },
   "file_extension": ".py",
   "mimetype": "text/x-python",
   "name": "python",
   "nbconvert_exporter": "python",
   "pygments_lexer": "ipython3",
   "version": "3.7.6"
  }
 },
 "nbformat": 4,
 "nbformat_minor": 4
}
